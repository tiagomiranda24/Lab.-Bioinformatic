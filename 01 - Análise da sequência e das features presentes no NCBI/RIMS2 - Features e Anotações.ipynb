{
 "cells": [
  {
   "cell_type": "code",
   "execution_count": null,
   "id": "98ddfdfd",
   "metadata": {},
   "outputs": [],
   "source": [
    "# Features e Anotações\n",
    "from Bio import SeqIO\n",
    "orfs = ['RIMS2']\n",
    "\n",
    "for orf in orfs:\n",
    "    record = SeqIO.read(orf + \".gb\", \"genbank\")\n",
    "    print('ID:', record.id)\n",
    "    print('Nome:', record.name)\n",
    "    print('Descrição:', record.description)\n",
    "    print(f'Tamanho da sequência:{len(record.seq)} aa')\n",
    "    print('Referências a bases de dados (externas):', record.dbxrefs)\n",
    "    print('Número de anotações:', len(record.annotations))\n",
    "    print('Fonte de anotação:', record.annotations[\"source\"])\n",
    "\n",
    "    print('Número de features', len(record.features))\n",
    "    print('Taxonomia:', *record.annotations['taxonomy'])\n",
    "    print('Organismo:', record.annotations['organism'])\n",
    "    print('Comentário:')\n",
    "    print(record.annotations['comment'])\n",
    "\n",
    "    featregion = [i for i in range(len(record.features)) if record.features[i].type == 'Region']\n",
    "    print()\n",
    "    print('Features:')\n",
    "    print()\n",
    "\n",
    "    for k in featregion:\n",
    "        print(*record.features[k].qualifiers['region_name'])\n",
    "        print(record.features[k].location)\n",
    "        print(record.features[k].extract(record.seq))\n",
    "        print(record.features[k].qualifiers['note'])\n",
    "        if k != featregion[-1]:\n",
    "            print('---------')\n",
    "    print()\n",
    "    if orf != orfs[-1]:\n",
    "        print('############################################')\n",
    "    print()"
   ]
  }
 ],
 "metadata": {
  "kernelspec": {
   "display_name": "Python 3 (ipykernel)",
   "language": "python",
   "name": "python3"
  },
  "language_info": {
   "codemirror_mode": {
    "name": "ipython",
    "version": 3
   },
   "file_extension": ".py",
   "mimetype": "text/x-python",
   "name": "python",
   "nbconvert_exporter": "python",
   "pygments_lexer": "ipython3",
   "version": "3.11.5"
  }
 },
 "nbformat": 4,
 "nbformat_minor": 5
}
