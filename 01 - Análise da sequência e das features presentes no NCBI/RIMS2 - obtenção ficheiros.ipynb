{
 "cells": [
  {
   "cell_type": "code",
   "execution_count": 1,
   "id": "ba62bf5d",
   "metadata": {},
   "outputs": [],
   "source": [
    "import Bio\n",
    "from Bio import Entrez\n",
    "\n",
    "Entrez.email = 'pg52532@alunos.uminho.pt'\n",
    "\n",
    "orf = ['RIMS2']\n",
    "id = [ 'Q9UQ26']\n",
    "# RIMS2 - aminoacid sequence                  Uniprot id = Q9UQ26\n",
    "\n",
    "for n in range(len(orf)):\n",
    "    handle = Entrez.efetch(db='Protein', id=id[n], rettype='fasta', retmode='text')\n",
    "    file = open(orf[n] + '.fa', 'w')\n",
    "    file.writelines(handle)\n",
    "    file.close()\n",
    "    handle.close()\n",
    "\n",
    "    handle = Entrez.efetch(db='Protein', id=id[n], rettype='gb', retmode='text')\n",
    "    file = open(orf[n] + '.gb', 'w')\n",
    "    file.writelines(handle)\n",
    "    file.close()\n",
    "    handle.close()"
   ]
  }
 ],
 "metadata": {
  "kernelspec": {
   "display_name": "Python 3 (ipykernel)",
   "language": "python",
   "name": "python3"
  },
  "language_info": {
   "codemirror_mode": {
    "name": "ipython",
    "version": 3
   },
   "file_extension": ".py",
   "mimetype": "text/x-python",
   "name": "python",
   "nbconvert_exporter": "python",
   "pygments_lexer": "ipython3",
   "version": "3.11.1"
  }
 },
 "nbformat": 4,
 "nbformat_minor": 5
}
