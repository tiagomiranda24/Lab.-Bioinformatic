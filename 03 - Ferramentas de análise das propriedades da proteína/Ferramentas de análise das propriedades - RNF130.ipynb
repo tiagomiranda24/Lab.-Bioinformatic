{
 "cells": [
  {
   "cell_type": "code",
   "execution_count": 1,
   "id": "89926fd2",
   "metadata": {},
   "outputs": [
    {
     "name": "stdout",
     "output_type": "stream",
     "text": [
      "Requirement already satisfied: biopython in c:\\users\\tiago\\anaconda3\\2\\lib\\site-packages (1.82)\n",
      "Requirement already satisfied: numpy in c:\\users\\tiago\\anaconda3\\2\\lib\\site-packages (from biopython) (1.24.3)\n",
      "ID Q86XS8\n",
      "Sequência: MSCAGRAGPARLAALALLTCSLWPARADNASQEYYTALINVTVQEPGRGAPLTFRIDRGRYGLDSPKAEVRGQVLAPLPLHGVADHLGCDPQTRFFVPPNIKQWIALLQRGNCTFKEKISRAAFHNAVAVVIYNNKSKEEPVTMTHPGTGDIIAVMITELRGKDILSYLEKNISVQMTIAVGTRMPPKNFSRGSLVFVSISFIVLMIISSAWLIFYFIQKIRYTNARDRNQRRLGDAAKKAISKLTTRTVKKGDKETDPDFDHCAVCIESYKQNDVVRILPCKHVFHKSCVDPWLSEHCTCPMCKLNILKALGIVPNLPCTDNVAFDMERLTRTQAVNRRSALGDLAGDNSLGLEPLRTSGISPLPQDGELTPRTGEINIAVTKEWFIIASFGLLSALTLCYMIIRATASLNANEVEWF\n",
      "Tamanho da sequência: 419 bp\n",
      "Nome: GOLI_HUMAN\n",
      "Descrição: RecName: Full=E3 ubiquitin-protein ligase RNF130; EC=2.3.2.27 {ECO:0000269|PubMed:16549277}; AltName: Full=Goliath homolog; Short=H-Goliath; AltName: Full=RING finger protein 130; AltName: Full=RING-type E3 ubiquitin transferase RNF130 {ECO:0000305}; Flags: Precursor;\n",
      "Taxonomia: ['Eukaryota', 'Metazoa', 'Chordata', 'Craniata', 'Vertebrata', 'Euteleostomi', 'Mammalia', 'Eutheria', 'Euarchontoglires', 'Primates', 'Haplorrhini', 'Catarrhini', 'Hominidae', 'Homo']\n",
      "Organismo: Homo sapiens (Human)\n",
      "Keywords: ['Alternative splicing', 'Apoptosis', 'Cytoplasm', 'Glycoprotein', 'Membrane', 'Metal-binding', 'Phosphoprotein', 'Reference proteome', 'Signal', 'Transferase', 'Transmembrane', 'Transmembrane helix', 'Ubl conjugation pathway', 'Zinc', 'Zinc-finger']\n"
     ]
    }
   ],
   "source": [
    "!pip install biopython\n",
    "swiss_id = 'RNF130' # Encontra-se o ID no ficheiro FASTA\n",
    "import Bio\n",
    "\n",
    "# TODO integrar esta função na função de análise\n",
    "def swiss_prot_scan(swiss_id):\n",
    "    import Bio\n",
    "    from Bio import SeqIO\n",
    "    from Bio import ExPASy\n",
    "    # Efetuamos uma pesquisa na base de dados SwissProt\n",
    "    handle = ExPASy.get_sprot_raw(swiss_id) # Encontramos o ID ao ler o ficheiro fasta\n",
    "    sr = SeqIO.read(handle, \"swiss\")\n",
    "    print(\n",
    "        f'ID {sr.id}',\n",
    "        f'Sequência: {sr.seq}',\n",
    "        f'Tamanho da sequência: {len(sr.seq)} bp',\n",
    "        f'Nome: {sr.name}',\n",
    "        f'Descrição: {sr.description}',\n",
    "        f'Taxonomia: {sr.annotations[\"taxonomy\"]}',\n",
    "        f'Organismo: {sr.annotations[\"organism\"]}',\n",
    "        f'Keywords: {sr.annotations[\"keywords\"]}',\n",
    "        sep = '\\n')\n",
    "\n",
    "swiss_prot_scan('Q86XS8')"
   ]
  },
  {
   "cell_type": "code",
   "execution_count": null,
   "id": "bf1da2cf",
   "metadata": {},
   "outputs": [],
   "source": []
  }
 ],
 "metadata": {
  "kernelspec": {
   "display_name": "Python 3 (ipykernel)",
   "language": "python",
   "name": "python3"
  },
  "language_info": {
   "codemirror_mode": {
    "name": "ipython",
    "version": 3
   },
   "file_extension": ".py",
   "mimetype": "text/x-python",
   "name": "python",
   "nbconvert_exporter": "python",
   "pygments_lexer": "ipython3",
   "version": "3.11.5"
  }
 },
 "nbformat": 4,
 "nbformat_minor": 5
}
