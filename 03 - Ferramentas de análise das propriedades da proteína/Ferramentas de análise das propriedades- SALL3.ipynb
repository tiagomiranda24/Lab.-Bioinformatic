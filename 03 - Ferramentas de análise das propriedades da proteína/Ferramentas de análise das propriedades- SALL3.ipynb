{
 "cells": [
  {
   "cell_type": "code",
   "execution_count": 1,
   "id": "74db3506",
   "metadata": {},
   "outputs": [
    {
     "name": "stdout",
     "output_type": "stream",
     "text": [
      "Requirement already satisfied: biopython in c:\\users\\tiago\\anaconda3\\2\\lib\\site-packages (1.82)\n",
      "Requirement already satisfied: numpy in c:\\users\\tiago\\anaconda3\\2\\lib\\site-packages (from biopython) (1.24.3)\n",
      "ID Q9BXA9\n",
      "Sequência: MSRRKQAKPQHLKSDEELLPPDGAPEHAAPGEGAEDADSGPESRSGGEETSVCEKCCAEFFKWADFLEHQRSCTKLPPVLIVHEDAPAPPPEDFPEPSPASSPSERAESEAAEEAGAEGAEGEARPVEKEAEPMDAEPAGDTRAPRPPPAAPAPPTPAYGAPSTNVTLEALLSTKVAVAQFSQGARAAGGSGAGGGVAAAAVPLILEQLMALQQQQIHQLQLIEQIRSQVALMQRPPPRPSLSPAAAPSAPGPAPSQLPGLAALPLSAGAPAAAIAGSGPAAPAAFEGAQPLSRPESGASTPGGPAEPSAPAAPSAAPAPAAPAPAPAPQSAASSQPQSASTPPALAPGSLLGAAPGLPSPLLPQTSASGVIFPNPLVSIAATANALDPLSALMKHRKGKPPNVSVFEPKASAEDPFFKHKCRFCAKVFGSDSALQIHLRSHTGERPFKCNICGNRFSTKGNLKVHFQRHKEKYPHIQMNPYPVPEYLDNVPTCSGIPYGMSLPPEKPVTTWLDSKPVLPTVPTSVGLQLPPTVPGAHGYADSPSATPASRSPQRPSPASSECASLSPGLNHVESGVSATAESPQSLLGGPPLTKAEPVSLPCTNARAGDAPVGAQASAAPTSVDGAPTSLGSPGLPAVSEQFKAQFPFGGLLDSMQTSETSKLQQLVENIDKKMTDPNQCVICHRVLSCQSALKMHYRTHTGERPFKCKICGRAFTTKGNLKTHFGVHRAKPPLRVQHSCPICQKKFTNAVVLQQHIRMHMGGQIPNTPLPEGFQDAMDSELAYDDKNAETLSSYDDDMDENSMEDDAELKDAATDPAKPLLSYAGSCPPSPPSVISSIAALENQMKMIDSVMSCQQLTGLKSVENGSGESDRLSNDSSSAVGDLESRSAGSPALSESSSSQALSPAPSNGESFRSKSPGLGAPEEPQEIPLKTERPDSPAAAPGSGGAPGRAGIKEEAPFSLLFLSRERGKCPSTVCGVCGKPFACKSALEIHYRSHTKERPFVCALCRRGCSTMGNLKQHLLTHRLKELPSQLFDPNFALGPSQSTPSLISSAAPTMIKMEVNGHGKAMALGEGPPLPAGVQVPAGPQTVMGPGLAPMLAPPPRRTPKQHNCQSCGKTFSSASALQIHERTHTGEKPFGCTICGRAFTTKGNLKVHMGTHMWNNAPARRGRRLSVENPMALLGGDALKFSEMFQKDLAARAMNVDPSFWNQYAAAITNGLAMKNNEISVIQNGGIPQLPVSLGGSALPPLGSMASGMDKARTGSSPPIVSLDKASSETAASRPFTRFIEDNKEIGIN\n",
      "Tamanho da sequência: 1300 bp\n",
      "Nome: SALL3_HUMAN\n",
      "Descrição: RecName: Full=Sal-like protein 3; AltName: Full=Zinc finger protein 796; AltName: Full=Zinc finger protein SALL3; Short=hSALL3;\n",
      "Taxonomia: ['Eukaryota', 'Metazoa', 'Chordata', 'Craniata', 'Vertebrata', 'Euteleostomi', 'Mammalia', 'Eutheria', 'Euarchontoglires', 'Primates', 'Haplorrhini', 'Catarrhini', 'Hominidae', 'Homo']\n",
      "Organismo: Homo sapiens (Human)\n",
      "Keywords: ['3D-structure', 'Alternative splicing', 'DNA-binding', 'Metal-binding', 'Nucleus', 'Phosphoprotein', 'Reference proteome', 'Repeat', 'Transcription', 'Transcription regulation', 'Zinc', 'Zinc-finger']\n"
     ]
    }
   ],
   "source": [
    "swiss_id = 'SALL3' # Encontra-se o ID no ficheiro FASTA\n",
    "!pip install biopython\n",
    "\n",
    "# TODO integrar esta função na função de análise\n",
    "def swiss_prot_scan(swiss_id):\n",
    "    import Bio\n",
    "    from Bio import SeqIO\n",
    "    from Bio import ExPASy\n",
    "    # Efetuamos uma pesquisa na base de dados SwissProt\n",
    "    handle = ExPASy.get_sprot_raw(swiss_id) # Encontramos o ID ao ler o ficheiro fasta\n",
    "    sr = SeqIO.read(handle, \"swiss\")\n",
    "    print(\n",
    "        f'ID {sr.id}',\n",
    "        f'Sequência: {sr.seq}',\n",
    "        f'Tamanho da sequência: {len(sr.seq)} bp',\n",
    "        f'Nome: {sr.name}',\n",
    "        f'Descrição: {sr.description}',\n",
    "        f'Taxonomia: {sr.annotations[\"taxonomy\"]}',\n",
    "        f'Organismo: {sr.annotations[\"organism\"]}',\n",
    "        f'Keywords: {sr.annotations[\"keywords\"]}',\n",
    "        sep = '\\n')\n",
    "\n",
    "swiss_prot_scan('Q9BXA9')"
   ]
  },
  {
   "cell_type": "code",
   "execution_count": null,
   "id": "226e361b",
   "metadata": {},
   "outputs": [],
   "source": []
  }
 ],
 "metadata": {
  "kernelspec": {
   "display_name": "Python 3 (ipykernel)",
   "language": "python",
   "name": "python3"
  },
  "language_info": {
   "codemirror_mode": {
    "name": "ipython",
    "version": 3
   },
   "file_extension": ".py",
   "mimetype": "text/x-python",
   "name": "python",
   "nbconvert_exporter": "python",
   "pygments_lexer": "ipython3",
   "version": "3.11.5"
  }
 },
 "nbformat": 4,
 "nbformat_minor": 5
}
