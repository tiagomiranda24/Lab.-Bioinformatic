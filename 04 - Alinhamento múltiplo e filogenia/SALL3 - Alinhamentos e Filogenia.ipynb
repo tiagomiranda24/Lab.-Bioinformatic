{
 "cells": [
  {
   "cell_type": "code",
   "execution_count": null,
   "id": "71120538",
   "metadata": {},
   "outputs": [],
   "source": [
    "from Bio import SeqIO, Entrez\n",
    "import subprocess\n",
    "from io import StringIO"
   ]
  },
  {
   "cell_type": "code",
   "execution_count": null,
   "id": "30b1388d",
   "metadata": {},
   "outputs": [],
   "source": [
    "# SALL3\n",
    "Entrez.email = 'pg52526@alunos.uminho.pt'\n",
    "\n",
    "orfs = ['SALL3']\n",
    "ids = ['Q62255']\n",
    "# SALL3 - aminoacid sequence                  Uniprot id = Q62255\n",
    "# RNF130 - aminoacid sequence                 Uniprot id = Q86XS8\n",
    "# RIMS2 - SARS-CoV-2 aminoacid sequence       Uniprot id = Q9UQ26\n",
    "\n",
    "# Fetch the gene sequence using the gene ID or name\n",
    "# Save it as {gene_name}.fa or .gb\n",
    "for orf, id in zip(orfs, ids):\n",
    "    # FASTA\n",
    "    handle = Entrez.efetch(db=\"Protein\", id=id, rettype=\"fasta\", retmode=\"text\")\n",
    "    record = handle.read()\n",
    "    handle.close()\n",
    "    with open(f\"{orf}.fa\", \"w\") as output_file:\n",
    "        output_file.write(record)\n",
    "\n",
    "    # GENBANK\n",
    "    handle = Entrez.efetch(db='Protein', id=id, rettype='gb', retmode='text')\n",
    "    record = handle.read()\n",
    "    handle.close()\n",
    "    with open(f\"{orf}.gb\", \"w\") as output_file:\n",
    "        output_file.write(record)"
   ]
  },
  {
   "cell_type": "code",
   "execution_count": null,
   "id": "a2b78a2b",
   "metadata": {},
   "outputs": [],
   "source": [
    "from Bio.Blast import NCBIWWW, NCBIXML\n",
    "\n",
    "# Please note that this process takes a few minutes\n",
    "# Query BLAST with FASTA files\n",
    "for orf in orfs:\n",
    "    print(\"Creating \" + orf + \" file...\")\n",
    "    # Read the gene sequence from the FASTA file\n",
    "    with open(f\"{orf}.fa\", \"r\") as fasta_file:\n",
    "        gene_sequence = fasta_file.read()\n",
    "\n",
    "    # Perform BLAST query against NCBI's database\n",
    "    result_handle = NCBIWWW.qblast(\"blastp\", \"nr\", gene_sequence, \n",
    "                                   entrez_query='human[Organism]', \n",
    "                                   hitlist_size=10)\n",
    "\n",
    "    # Save the BLAST results in a file\n",
    "    with open(f\"{orf}_blast_results.xml\", \"w\") as output_blast:\n",
    "        output_blast.write(result_handle.read())"
   ]
  },
  {
   "cell_type": "code",
   "execution_count": null,
   "id": "16fb4448",
   "metadata": {},
   "outputs": [],
   "source": [
    "from Bio import AlignIO, Phylo\n",
    "from Bio.Align.Applications import ClustalOmegaCommandline\n",
    "from Bio.Phylo.TreeConstruction import DistanceCalculator, DistanceTreeConstructor\n",
    "\n",
    "# Find High-scoring Segment Pairs (HSP) for each orf\n",
    "for orf in orfs:\n",
    "    with open(f\"{orf}_blast_results.xml\", \"r\") as output_blast:\n",
    "        blast_records = NCBIXML.parse(output_blast)\n",
    "        sequences = []\n",
    "        for record in blast_records:\n",
    "            for alignment in record.alignments:\n",
    "                for hsp in alignment.hsps:\n",
    "                    sequences.append(hsp.sbjct)\n",
    "    \n",
    "    # Perform Multiple Sequence Alignment (MSA)\n",
    "    alignment_file = f\"{orf}_alignment.fa\"\n",
    "    aligned_file = f\"{orf}_aligned.fa\"\n",
    "    with open(alignment_file, \"w\") as out_handle:\n",
    "        for i, seq in enumerate(sequences):\n",
    "            out_handle.write(f\">Sequence_{i+1}\\n{seq}\\n\")\n",
    "\n",
    "    clustalomega_cline = ClustalOmegaCommandline(\"clustalo\", infile=alignment_file, outfile=aligned_file, verbose=True, force=True)\n",
    "    stdout, stderr = clustalomega_cline()"
   ]
  },
  {
   "cell_type": "code",
   "execution_count": null,
   "id": "7f782320",
   "metadata": {},
   "outputs": [],
   "source": [
    "import matplotlib.pyplot as plt\n",
    "\n",
    "plt.rc('font', size=8)\n",
    "plt.rc('figure', figsize=(8, 5))\n",
    "# Read the alignment\n",
    "for orf in orfs:\n",
    "    alignment = AlignIO.read(f\"{orf}_aligned.fa\", \"fasta\")\n",
    "\n",
    "    # Construct a Phylogenetic Tree\n",
    "    calculator = DistanceCalculator('blastp') # Distance calculator method for proteins\n",
    "    dm = calculator.get_distance(alignment)\n",
    "    constructor = DistanceTreeConstructor()\n",
    "    tree = constructor.upgma(dm)\n",
    "\n",
    "    # Draw or display the tree\n",
    "    Phylo.draw(tree, title={'label' : orf})"
   ]
  }
 ],
 "metadata": {
  "kernelspec": {
   "display_name": "Python 3 (ipykernel)",
   "language": "python",
   "name": "python3"
  },
  "language_info": {
   "codemirror_mode": {
    "name": "ipython",
    "version": 3
   },
   "file_extension": ".py",
   "mimetype": "text/x-python",
   "name": "python",
   "nbconvert_exporter": "python",
   "pygments_lexer": "ipython3",
   "version": "3.11.5"
  }
 },
 "nbformat": 4,
 "nbformat_minor": 5
}
